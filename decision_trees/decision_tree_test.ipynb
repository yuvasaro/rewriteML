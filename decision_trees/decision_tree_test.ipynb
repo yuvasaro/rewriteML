{
 "cells": [
  {
   "cell_type": "code",
   "execution_count": 1,
   "metadata": {},
   "outputs": [],
   "source": [
    "import numpy as np\n",
    "from decision_tree import build_decision_tree\n"
   ]
  },
  {
   "cell_type": "markdown",
   "metadata": {},
   "source": [
    "### Sample mushroom data to test on (taken from a google colab)\n",
    "\n",
    "| Index | Brown Cap | Tapering Stalk Shape | Solitary | Edible |\n",
    "|:-----:|:---------:|:--------------------:|:--------:|:------:|\n",
    "|   0   |     1     |           1          |     1    |    1   |\n",
    "|   1   |     1     |           0          |     1    |    1   |\n",
    "|   2   |     1     |           0          |     0    |    0   |\n",
    "|   3   |     1     |           0          |     0    |    0   |\n",
    "|   4   |     1     |           1          |     1    |    1   |\n",
    "|   5   |     0     |           1          |     1    |    0   |\n",
    "|   6   |     0     |           0          |     0    |    0   |\n",
    "|   7   |     1     |           0          |     1    |    1   |\n",
    "|   8   |     0     |           1          |     0    |    1   |\n",
    "|   9   |     1     |           0          |     0    |    0   |"
   ]
  },
  {
   "cell_type": "code",
   "execution_count": 2,
   "metadata": {},
   "outputs": [],
   "source": [
    "X_train = np.array([[1,1,1],[1,0,1],[1,0,0],[1,0,0],[1,1,1],[0,1,1],[0,0,0],[1,0,1],[0,1,0],[1,0,0]])\n",
    "y_train = np.array([1,1,0,0,1,0,0,1,1,0])\n",
    "root_indices = [i for i in range(10)]\n"
   ]
  },
  {
   "cell_type": "code",
   "execution_count": 3,
   "metadata": {},
   "outputs": [
    {
     "name": "stdout",
     "output_type": "stream",
     "text": [
      "Depth: 0, Split Feature: 2, Node Indices: [0, 1, 2, 3, 4, 5, 6, 7, 8, 9]\n",
      "\tDepth: 1, Split Feature: 0, Node Indices: [0, 1, 4, 5, 7]\n",
      "\t\tDepth: 2, Split Feature: -1, Node Indices: [0, 1, 4, 7]\n",
      "\t\tDepth: 2, Split Feature: -1, Node Indices: [5]\n",
      "\tDepth: 1, Split Feature: 1, Node Indices: [2, 3, 6, 8, 9]\n",
      "\t\tDepth: 2, Split Feature: -1, Node Indices: [8]\n",
      "\t\tDepth: 2, Split Feature: -1, Node Indices: [2, 3, 6, 9]\n"
     ]
    }
   ],
   "source": [
    "tree = []\n",
    "build_decision_tree(tree, X_train, y_train, root_indices, max_depth=2, current_depth=0)\n",
    "\n",
    "for node in tree:\n",
    "    # Each element is [current_depth, split_feature, node_indices]\n",
    "    tabs = \"\".join(['\\t' for _ in range(node[0])])\n",
    "    print(f\"{tabs}Depth: {node[0]}, Split Feature: {node[1]}, Node Indices: {node[2]}\")\n"
   ]
  }
 ],
 "metadata": {
  "kernelspec": {
   "display_name": "Python 3",
   "language": "python",
   "name": "python3"
  },
  "language_info": {
   "codemirror_mode": {
    "name": "ipython",
    "version": 3
   },
   "file_extension": ".py",
   "mimetype": "text/x-python",
   "name": "python",
   "nbconvert_exporter": "python",
   "pygments_lexer": "ipython3",
   "version": "3.11.4"
  }
 },
 "nbformat": 4,
 "nbformat_minor": 2
}
